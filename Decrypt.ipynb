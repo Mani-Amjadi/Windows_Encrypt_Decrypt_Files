{
 "cells": [
  {
   "cell_type": "code",
   "execution_count": 2,
   "source": [
    "#### Modules Used In Project ####\r\n",
    "from subprocess import *\r\n",
    "from cryptography.fernet import Fernet\r\n",
    "import os \r\n",
    "#### generate key ####\r\n",
    "key = input(\"Enter the key : \")\r\n",
    "key = bytes(key,\"utf-8\")\r\n",
    "encriptt = Fernet(key)\r\n",
    "#### find drives ### \r\n",
    "Drives = getoutput(\"fsutil fsInfo drives\").replace(\"Drives:\",\"\").replace(\"\\\\\",\"\").split()\r\n",
    "if \"C:\" in Drives:\r\n",
    "    Drives.remove(\"C:\")\r\n",
    "#### File Formats ####\r\n",
    "fileFormats = [\"psd\",\"py\",\"txt\",\"mp4\",\"exe\",\"jpg\",\"pdf\",\"mp3\"]\r\n",
    "#####################################################\r\n",
    "#################### Decrypting Files ###############\r\n",
    "def Decrypt():\r\n",
    "    for Formatt in fileFormats:\r\n",
    "        try:\r\n",
    "            for drive in Drives:\r\n",
    "                with open(\"log.txt\" , \"w\") as errorlog:\r\n",
    "                    cmd = check_output(drive+\" && dir /S /B *.FuckYou_\"+Formatt , shell=True , stderr=errorlog).decode().replace(\"\\r\",\"\").split(\"\\n\")\r\n",
    "                    for file in cmd:\r\n",
    "                        with open(file,\"rb\") as readfile:\r\n",
    "                            data = readfile.read()\r\n",
    "                            encData = encriptt.decrypt(data)\r\n",
    "                            nameOfFile = file.replace(\".FuckYou_\"+Formatt,\"\")\r\n",
    "                            newFile = open(nameOfFile+\".\"+Formatt,\"wb\")\r\n",
    "                            newFile.write(encData)\r\n",
    "                            readfile.close()\r\n",
    "                            newFile.close()\r\n",
    "                            os.remove(file)\r\n",
    "                            print (f\"{file} | Decrypted .\")\r\n",
    "        except:\r\n",
    "            pass\r\n",
    "\r\n",
    "if __name__ == \"__main__\":\r\n",
    "    Decrypt()"
   ],
   "outputs": [
    {
     "output_type": "stream",
     "name": "stdout",
     "text": [
      "E:\\mani.FuckYou_txt | Decrypted .\n",
      "E:\\1919076.FuckYou_jpg | Decrypted .\n",
      "E:\\a90563f885dc9497fea6e9fb3cf6f326.FuckYou_jpg | Decrypted .\n",
      "E:\\abstract-painting-background-for-wallpapers-vector-22656641.FuckYou_jpg | Decrypted .\n"
     ]
    }
   ],
   "metadata": {}
  }
 ],
 "metadata": {
  "orig_nbformat": 4,
  "language_info": {
   "name": "python",
   "version": "3.9.0",
   "mimetype": "text/x-python",
   "codemirror_mode": {
    "name": "ipython",
    "version": 3
   },
   "pygments_lexer": "ipython3",
   "nbconvert_exporter": "python",
   "file_extension": ".py"
  },
  "kernelspec": {
   "name": "python3",
   "display_name": "Python 3.9.0 64-bit"
  },
  "interpreter": {
   "hash": "f9a665eed82786d1db64405b5cfd0f8037f4571b806793cb1072a84e044fc7ff"
  }
 },
 "nbformat": 4,
 "nbformat_minor": 2
}